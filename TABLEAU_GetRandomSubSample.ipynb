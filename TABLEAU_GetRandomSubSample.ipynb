{
 "cells": [
  {
   "cell_type": "code",
   "execution_count": 6,
   "metadata": {},
   "outputs": [],
   "source": [
    "import pandas as pd\n",
    "import numpy as np\n",
    "import random\n",
    "import os"
   ]
  },
  {
   "cell_type": "code",
   "execution_count": 7,
   "metadata": {},
   "outputs": [
    {
     "name": "stdout",
     "output_type": "stream",
     "text": [
      "2013\n",
      "2014\n",
      "2015\n",
      "2016\n",
      "2017\n",
      "2018\n",
      "2019\n",
      "2020\n"
     ]
    }
   ],
   "source": [
    "masterDF = pd.DataFrame()\n",
    "\n",
    "for year in [\"2013\", \"2014\",\"2015\",\"2016\",\"2017\",\"2018\",\"2019\",\"2020\"]:\n",
    "    filepath = f\"Data/{year}07-citibike-tripdata.csv\"\n",
    "    \n",
    "    df_input = pd.read_csv(filepath, low_memory=False)\n",
    "    sample = df_input.sample(frac=0.04, random_state=42)\n",
    "    masterDF = masterDF.append(sample)\n",
    "    \n",
    "    print(year)"
   ]
  },
  {
   "cell_type": "code",
   "execution_count": 8,
   "metadata": {},
   "outputs": [],
   "source": [
    "masterDF.reset_index(drop=True, inplace=True)\n",
    "\n",
    "masterDF.to_csv(\"fullJulysample.csv\", index=False)"
   ]
  },
  {
   "cell_type": "code",
   "execution_count": 9,
   "metadata": {},
   "outputs": [
    {
     "data": {
      "text/plain": [
       "87.904298"
      ]
     },
     "execution_count": 9,
     "metadata": {},
     "output_type": "execute_result"
    }
   ],
   "source": [
    "os.path.getsize(\"fullJulysample.csv\") / 1000000"
   ]
  },
  {
   "cell_type": "code",
   "execution_count": null,
   "metadata": {},
   "outputs": [],
   "source": []
  },
  {
   "cell_type": "code",
   "execution_count": null,
   "metadata": {},
   "outputs": [],
   "source": []
  },
  {
   "cell_type": "code",
   "execution_count": null,
   "metadata": {},
   "outputs": [],
   "source": []
  },
  {
   "cell_type": "code",
   "execution_count": null,
   "metadata": {},
   "outputs": [],
   "source": []
  },
  {
   "cell_type": "code",
   "execution_count": null,
   "metadata": {},
   "outputs": [],
   "source": []
  },
  {
   "cell_type": "markdown",
   "metadata": {},
   "source": []
  },
  {
   "cell_type": "code",
   "execution_count": 16,
   "metadata": {},
   "outputs": [
    {
     "data": {
      "text/html": [
       "<div>\n",
       "<style scoped>\n",
       "    .dataframe tbody tr th:only-of-type {\n",
       "        vertical-align: middle;\n",
       "    }\n",
       "\n",
       "    .dataframe tbody tr th {\n",
       "        vertical-align: top;\n",
       "    }\n",
       "\n",
       "    .dataframe thead th {\n",
       "        text-align: right;\n",
       "    }\n",
       "</style>\n",
       "<table border=\"1\" class=\"dataframe\">\n",
       "  <thead>\n",
       "    <tr style=\"text-align: right;\">\n",
       "      <th></th>\n",
       "      <th>tripduration</th>\n",
       "      <th>starttime</th>\n",
       "      <th>stoptime</th>\n",
       "      <th>start station id</th>\n",
       "      <th>start station name</th>\n",
       "      <th>start station latitude</th>\n",
       "      <th>start station longitude</th>\n",
       "      <th>end station id</th>\n",
       "      <th>end station name</th>\n",
       "      <th>end station latitude</th>\n",
       "      <th>end station longitude</th>\n",
       "      <th>bikeid</th>\n",
       "      <th>usertype</th>\n",
       "      <th>birth year</th>\n",
       "      <th>gender</th>\n",
       "    </tr>\n",
       "  </thead>\n",
       "  <tbody>\n",
       "    <tr>\n",
       "      <th>0</th>\n",
       "      <td>306</td>\n",
       "      <td>2013-07-29 17:35:17</td>\n",
       "      <td>2013-07-29 17:40:23</td>\n",
       "      <td>317.0</td>\n",
       "      <td>E 6 St &amp; Avenue B</td>\n",
       "      <td>40.724537</td>\n",
       "      <td>-73.981854</td>\n",
       "      <td>411.0</td>\n",
       "      <td>E 6 St &amp; Avenue D</td>\n",
       "      <td>40.722281</td>\n",
       "      <td>-73.976687</td>\n",
       "      <td>17504</td>\n",
       "      <td>Subscriber</td>\n",
       "      <td>1974</td>\n",
       "      <td>1</td>\n",
       "    </tr>\n",
       "    <tr>\n",
       "      <th>1</th>\n",
       "      <td>383</td>\n",
       "      <td>2013-07-16 19:51:22</td>\n",
       "      <td>2013-07-16 19:57:45</td>\n",
       "      <td>524.0</td>\n",
       "      <td>W 43 St &amp; 6 Ave</td>\n",
       "      <td>40.755273</td>\n",
       "      <td>-73.983169</td>\n",
       "      <td>515.0</td>\n",
       "      <td>W 43 St &amp; 10 Ave</td>\n",
       "      <td>40.760094</td>\n",
       "      <td>-73.994618</td>\n",
       "      <td>17594</td>\n",
       "      <td>Subscriber</td>\n",
       "      <td>1990</td>\n",
       "      <td>1</td>\n",
       "    </tr>\n",
       "    <tr>\n",
       "      <th>2</th>\n",
       "      <td>266</td>\n",
       "      <td>2013-07-29 18:02:31</td>\n",
       "      <td>2013-07-29 18:06:57</td>\n",
       "      <td>330.0</td>\n",
       "      <td>Reade St &amp; Broadway</td>\n",
       "      <td>40.714505</td>\n",
       "      <td>-74.005628</td>\n",
       "      <td>147.0</td>\n",
       "      <td>Greenwich St &amp; Warren St</td>\n",
       "      <td>40.715422</td>\n",
       "      <td>-74.011220</td>\n",
       "      <td>18461</td>\n",
       "      <td>Subscriber</td>\n",
       "      <td>1980</td>\n",
       "      <td>1</td>\n",
       "    </tr>\n",
       "    <tr>\n",
       "      <th>3</th>\n",
       "      <td>968</td>\n",
       "      <td>2013-07-02 07:54:50</td>\n",
       "      <td>2013-07-02 08:10:58</td>\n",
       "      <td>499.0</td>\n",
       "      <td>Broadway &amp; W 60 St</td>\n",
       "      <td>40.769155</td>\n",
       "      <td>-73.981918</td>\n",
       "      <td>417.0</td>\n",
       "      <td>Barclay St &amp; Church St</td>\n",
       "      <td>40.712912</td>\n",
       "      <td>-74.010202</td>\n",
       "      <td>14807</td>\n",
       "      <td>Subscriber</td>\n",
       "      <td>1984</td>\n",
       "      <td>1</td>\n",
       "    </tr>\n",
       "    <tr>\n",
       "      <th>4</th>\n",
       "      <td>554</td>\n",
       "      <td>2013-07-23 09:26:34</td>\n",
       "      <td>2013-07-23 09:35:48</td>\n",
       "      <td>146.0</td>\n",
       "      <td>Hudson St &amp; Reade St</td>\n",
       "      <td>40.716250</td>\n",
       "      <td>-74.009106</td>\n",
       "      <td>295.0</td>\n",
       "      <td>Pike St &amp; E Broadway</td>\n",
       "      <td>40.714067</td>\n",
       "      <td>-73.992939</td>\n",
       "      <td>15255</td>\n",
       "      <td>Subscriber</td>\n",
       "      <td>1983</td>\n",
       "      <td>1</td>\n",
       "    </tr>\n",
       "  </tbody>\n",
       "</table>\n",
       "</div>"
      ],
      "text/plain": [
       "   tripduration            starttime             stoptime  start station id  \\\n",
       "0           306  2013-07-29 17:35:17  2013-07-29 17:40:23             317.0   \n",
       "1           383  2013-07-16 19:51:22  2013-07-16 19:57:45             524.0   \n",
       "2           266  2013-07-29 18:02:31  2013-07-29 18:06:57             330.0   \n",
       "3           968  2013-07-02 07:54:50  2013-07-02 08:10:58             499.0   \n",
       "4           554  2013-07-23 09:26:34  2013-07-23 09:35:48             146.0   \n",
       "\n",
       "     start station name  start station latitude  start station longitude  \\\n",
       "0     E 6 St & Avenue B               40.724537               -73.981854   \n",
       "1       W 43 St & 6 Ave               40.755273               -73.983169   \n",
       "2   Reade St & Broadway               40.714505               -74.005628   \n",
       "3    Broadway & W 60 St               40.769155               -73.981918   \n",
       "4  Hudson St & Reade St               40.716250               -74.009106   \n",
       "\n",
       "   end station id          end station name  end station latitude  \\\n",
       "0           411.0         E 6 St & Avenue D             40.722281   \n",
       "1           515.0          W 43 St & 10 Ave             40.760094   \n",
       "2           147.0  Greenwich St & Warren St             40.715422   \n",
       "3           417.0    Barclay St & Church St             40.712912   \n",
       "4           295.0      Pike St & E Broadway             40.714067   \n",
       "\n",
       "   end station longitude  bikeid    usertype birth year  gender  \n",
       "0             -73.976687   17504  Subscriber       1974       1  \n",
       "1             -73.994618   17594  Subscriber       1990       1  \n",
       "2             -74.011220   18461  Subscriber       1980       1  \n",
       "3             -74.010202   14807  Subscriber       1984       1  \n",
       "4             -73.992939   15255  Subscriber       1983       1  "
      ]
     },
     "execution_count": 16,
     "metadata": {},
     "output_type": "execute_result"
    }
   ],
   "source": [
    "df = pd.read_csv(\"fullJulysample.csv\", low_memory=False)\n",
    "df.head()"
   ]
  },
  {
   "cell_type": "code",
   "execution_count": 17,
   "metadata": {},
   "outputs": [
    {
     "data": {
      "text/plain": [
       "488566"
      ]
     },
     "execution_count": 17,
     "metadata": {},
     "output_type": "execute_result"
    }
   ],
   "source": [
    "len(df)"
   ]
  },
  {
   "cell_type": "markdown",
   "metadata": {},
   "source": [
    "os.path.getsize(\"fullJulysample.csv\") / 1000000"
   ]
  },
  {
   "cell_type": "markdown",
   "metadata": {},
   "source": [
    "random_state = 42"
   ]
  },
  {
   "cell_type": "markdown",
   "metadata": {},
   "source": [
    "df_sub = df.sample(frac=.01, random_state=random_state)\n",
    "df_sub.head()"
   ]
  },
  {
   "cell_type": "code",
   "execution_count": null,
   "metadata": {},
   "outputs": [],
   "source": []
  }
 ],
 "metadata": {
  "kernelspec": {
   "display_name": "Python 3",
   "language": "python",
   "name": "python3"
  },
  "language_info": {
   "codemirror_mode": {
    "name": "ipython",
    "version": 3
   },
   "file_extension": ".py",
   "mimetype": "text/x-python",
   "name": "python",
   "nbconvert_exporter": "python",
   "pygments_lexer": "ipython3",
   "version": "3.8.3"
  }
 },
 "nbformat": 4,
 "nbformat_minor": 2
}
